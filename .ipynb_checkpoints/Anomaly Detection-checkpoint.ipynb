{
 "cells": [
  {
   "cell_type": "markdown",
   "metadata": {},
   "source": [
    "# Data Generation"
   ]
  },
  {
   "cell_type": "code",
   "execution_count": 4,
   "metadata": {
    "collapsed": true
   },
   "outputs": [],
   "source": [
    "import pandas as pd\n",
    "import numpy as np"
   ]
  },
  {
   "cell_type": "code",
   "execution_count": 12,
   "metadata": {
    "collapsed": true
   },
   "outputs": [],
   "source": [
    "df = pd.DataFrame(columns=['time', 'heartrate', 'conductance', 'blood pressure'])"
   ]
  },
  {
   "cell_type": "code",
   "execution_count": 16,
   "metadata": {},
   "outputs": [],
   "source": [
    "for t in range(60*24):\n",
    "    if (t % 77 == 0): # some hack simulating sensors going crazy\n",
    "        df.loc[t] = [t, np.random.normal(100, 50), np.random.normal(10, 20), np.random.normal(110, 80)]\n",
    "    df.loc[t] = [t, np.random.normal(80, 10), np.random.normal(10, 5), np.random.normal(110, 10)]"
   ]
  },
  {
   "cell_type": "code",
   "execution_count": 14,
   "metadata": {},
   "outputs": [],
   "source": [
    "df.to_csv('sensor_daily.csv')"
   ]
  },
  {
   "cell_type": "markdown",
   "metadata": {},
   "source": [
    "# Anomaly Detection\n",
    "\n",
    "Detecting records beyond 2 SD from mean."
   ]
  },
  {
   "cell_type": "code",
   "execution_count": 38,
   "metadata": {},
   "outputs": [],
   "source": [
    "means = df.mean(axis=0)"
   ]
  },
  {
   "cell_type": "code",
   "execution_count": 46,
   "metadata": {},
   "outputs": [],
   "source": [
    "stds = df.std(axis=0)"
   ]
  },
  {
   "cell_type": "code",
   "execution_count": 75,
   "metadata": {},
   "outputs": [
    {
     "data": {
      "text/plain": [
       "110.64849721233497"
      ]
     },
     "execution_count": 75,
     "metadata": {},
     "output_type": "execute_result"
    }
   ],
   "source": [
    "upper = means+3*stds\n",
    "upper[1]"
   ]
  },
  {
   "cell_type": "code",
   "execution_count": 76,
   "metadata": {},
   "outputs": [
    {
     "data": {
      "text/plain": [
       "49.315630363703718"
      ]
     },
     "execution_count": 76,
     "metadata": {},
     "output_type": "execute_result"
    }
   ],
   "source": [
    "lower = means-3*stds\n",
    "lower[1]"
   ]
  },
  {
   "cell_type": "code",
   "execution_count": 77,
   "metadata": {},
   "outputs": [],
   "source": [
    "anom = (df['heartrate'] < lower[1]) | (df['heartrate'] > upper[1]) | \\\n",
    "(df['conductance'] < lower[2]) | (df['conductance'] > upper[2]) | \\\n",
    "(df['blood pressure'] < lower[3]) | (df['blood pressure'] > upper[3])"
   ]
  },
  {
   "cell_type": "code",
   "execution_count": 78,
   "metadata": {},
   "outputs": [
    {
     "data": {
      "text/plain": [
       "0       False\n",
       "1       False\n",
       "2       False\n",
       "3       False\n",
       "4       False\n",
       "5       False\n",
       "6       False\n",
       "7       False\n",
       "8       False\n",
       "9       False\n",
       "10      False\n",
       "11      False\n",
       "12      False\n",
       "13      False\n",
       "14      False\n",
       "15      False\n",
       "16      False\n",
       "17      False\n",
       "18      False\n",
       "19      False\n",
       "20      False\n",
       "21      False\n",
       "22      False\n",
       "23      False\n",
       "24      False\n",
       "25      False\n",
       "26      False\n",
       "27      False\n",
       "28      False\n",
       "29      False\n",
       "        ...  \n",
       "1410    False\n",
       "1411    False\n",
       "1412    False\n",
       "1413    False\n",
       "1414    False\n",
       "1415    False\n",
       "1416    False\n",
       "1417    False\n",
       "1418    False\n",
       "1419    False\n",
       "1420    False\n",
       "1421    False\n",
       "1422    False\n",
       "1423    False\n",
       "1424    False\n",
       "1425    False\n",
       "1426    False\n",
       "1427    False\n",
       "1428    False\n",
       "1429    False\n",
       "1430    False\n",
       "1431    False\n",
       "1432    False\n",
       "1433    False\n",
       "1434    False\n",
       "1435    False\n",
       "1436     True\n",
       "1437    False\n",
       "1438    False\n",
       "1439    False\n",
       "Length: 1440, dtype: bool"
      ]
     },
     "execution_count": 78,
     "metadata": {},
     "output_type": "execute_result"
    }
   ],
   "source": [
    "anom"
   ]
  },
  {
   "cell_type": "code",
   "execution_count": 80,
   "metadata": {},
   "outputs": [
    {
     "data": {
      "text/html": [
       "<div>\n",
       "<style>\n",
       "    .dataframe thead tr:only-child th {\n",
       "        text-align: right;\n",
       "    }\n",
       "\n",
       "    .dataframe thead th {\n",
       "        text-align: left;\n",
       "    }\n",
       "\n",
       "    .dataframe tbody tr th {\n",
       "        vertical-align: top;\n",
       "    }\n",
       "</style>\n",
       "<table border=\"1\" class=\"dataframe\">\n",
       "  <thead>\n",
       "    <tr style=\"text-align: right;\">\n",
       "      <th></th>\n",
       "      <th>time</th>\n",
       "      <th>heartrate</th>\n",
       "      <th>conductance</th>\n",
       "      <th>blood pressure</th>\n",
       "    </tr>\n",
       "  </thead>\n",
       "  <tbody>\n",
       "    <tr>\n",
       "      <th>203</th>\n",
       "      <td>203.0</td>\n",
       "      <td>87.245247</td>\n",
       "      <td>9.494816</td>\n",
       "      <td>72.912931</td>\n",
       "    </tr>\n",
       "    <tr>\n",
       "      <th>472</th>\n",
       "      <td>472.0</td>\n",
       "      <td>95.075035</td>\n",
       "      <td>7.160689</td>\n",
       "      <td>79.502506</td>\n",
       "    </tr>\n",
       "    <tr>\n",
       "      <th>494</th>\n",
       "      <td>494.0</td>\n",
       "      <td>75.504789</td>\n",
       "      <td>-6.606019</td>\n",
       "      <td>104.797873</td>\n",
       "    </tr>\n",
       "    <tr>\n",
       "      <th>504</th>\n",
       "      <td>504.0</td>\n",
       "      <td>80.216906</td>\n",
       "      <td>13.362391</td>\n",
       "      <td>78.744552</td>\n",
       "    </tr>\n",
       "    <tr>\n",
       "      <th>670</th>\n",
       "      <td>670.0</td>\n",
       "      <td>82.290135</td>\n",
       "      <td>13.624991</td>\n",
       "      <td>140.085853</td>\n",
       "    </tr>\n",
       "    <tr>\n",
       "      <th>689</th>\n",
       "      <td>689.0</td>\n",
       "      <td>75.167012</td>\n",
       "      <td>25.671027</td>\n",
       "      <td>89.324044</td>\n",
       "    </tr>\n",
       "    <tr>\n",
       "      <th>974</th>\n",
       "      <td>974.0</td>\n",
       "      <td>45.813330</td>\n",
       "      <td>7.505333</td>\n",
       "      <td>111.091536</td>\n",
       "    </tr>\n",
       "    <tr>\n",
       "      <th>1157</th>\n",
       "      <td>1157.0</td>\n",
       "      <td>77.098825</td>\n",
       "      <td>7.183017</td>\n",
       "      <td>144.071122</td>\n",
       "    </tr>\n",
       "    <tr>\n",
       "      <th>1182</th>\n",
       "      <td>1182.0</td>\n",
       "      <td>89.070933</td>\n",
       "      <td>28.253537</td>\n",
       "      <td>100.695004</td>\n",
       "    </tr>\n",
       "    <tr>\n",
       "      <th>1364</th>\n",
       "      <td>1364.0</td>\n",
       "      <td>114.048627</td>\n",
       "      <td>6.136434</td>\n",
       "      <td>103.237972</td>\n",
       "    </tr>\n",
       "    <tr>\n",
       "      <th>1436</th>\n",
       "      <td>1436.0</td>\n",
       "      <td>81.221730</td>\n",
       "      <td>28.749964</td>\n",
       "      <td>112.568513</td>\n",
       "    </tr>\n",
       "  </tbody>\n",
       "</table>\n",
       "</div>"
      ],
      "text/plain": [
       "        time   heartrate  conductance  blood pressure\n",
       "203    203.0   87.245247     9.494816       72.912931\n",
       "472    472.0   95.075035     7.160689       79.502506\n",
       "494    494.0   75.504789    -6.606019      104.797873\n",
       "504    504.0   80.216906    13.362391       78.744552\n",
       "670    670.0   82.290135    13.624991      140.085853\n",
       "689    689.0   75.167012    25.671027       89.324044\n",
       "974    974.0   45.813330     7.505333      111.091536\n",
       "1157  1157.0   77.098825     7.183017      144.071122\n",
       "1182  1182.0   89.070933    28.253537      100.695004\n",
       "1364  1364.0  114.048627     6.136434      103.237972\n",
       "1436  1436.0   81.221730    28.749964      112.568513"
      ]
     },
     "execution_count": 80,
     "metadata": {},
     "output_type": "execute_result"
    }
   ],
   "source": [
    "df[anom]"
   ]
  },
  {
   "cell_type": "code",
   "execution_count": null,
   "metadata": {
    "collapsed": true
   },
   "outputs": [],
   "source": []
  }
 ],
 "metadata": {
  "kernelspec": {
   "display_name": "Python 3",
   "language": "python",
   "name": "python3"
  },
  "language_info": {
   "codemirror_mode": {
    "name": "ipython",
    "version": 3
   },
   "file_extension": ".py",
   "mimetype": "text/x-python",
   "name": "python",
   "nbconvert_exporter": "python",
   "pygments_lexer": "ipython3",
   "version": "3.6.3"
  }
 },
 "nbformat": 4,
 "nbformat_minor": 2
}
